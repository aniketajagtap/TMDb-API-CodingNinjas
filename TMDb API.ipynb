{
 "cells": [
  {
   "cell_type": "markdown",
   "id": "82cc156e",
   "metadata": {},
   "source": [
    "### 1.1 Find the 'id' of the movie \"Andhadhun\" using TMDb API."
   ]
  },
  {
   "cell_type": "code",
   "execution_count": 1,
   "id": "52cb0898",
   "metadata": {},
   "outputs": [
    {
     "name": "stdout",
     "output_type": "stream",
     "text": [
      "534780\n"
     ]
    }
   ],
   "source": [
    "import requests\n",
    "\n",
    "url = 'https://api.themoviedb.org/3/search/movie'\n",
    "params = {'api_key': 'a2e43a70dd1f0b934108927b7a78d87a', 'query': 'Andhadhun'}\n",
    "\n",
    "response = requests.get(url, params=params)\n",
    "data=response.json()\n",
    "\n",
    "print(data['results'][0]['id'])"
   ]
  },
  {
   "cell_type": "markdown",
   "id": "9bcb7d3e",
   "metadata": {},
   "source": [
    "### 1.2 Fetch the company id company 'Marvel Studios' using TMDb. Print the id."
   ]
  },
  {
   "cell_type": "code",
   "execution_count": 3,
   "id": "0debab73",
   "metadata": {},
   "outputs": [
    {
     "name": "stdout",
     "output_type": "stream",
     "text": [
      "420\n"
     ]
    }
   ],
   "source": [
    "import requests\n",
    "\n",
    "url = 'https://api.themoviedb.org/3/search/company'\n",
    "params = {'api_key': 'a2e43a70dd1f0b934108927b7a78d87a', 'query': 'Marvel Studios'}\n",
    "\n",
    "response = requests.get(url, params=params)\n",
    "data=response.json()\n",
    "\n",
    "print(data['results'][0]['id'])"
   ]
  },
  {
   "cell_type": "markdown",
   "id": "04d2d2b1",
   "metadata": {},
   "source": [
    "### 1.3 Find the vote count and vote average of the movie \"3 Idiots\" using the TMDb API"
   ]
  },
  {
   "cell_type": "code",
   "execution_count": 4,
   "id": "522ab8fb",
   "metadata": {},
   "outputs": [
    {
     "name": "stdout",
     "output_type": "stream",
     "text": [
      "2102 7.987\n"
     ]
    }
   ],
   "source": [
    "import requests\n",
    "\n",
    "url = 'https://api.themoviedb.org/3/search/movie'\n",
    "params = {'api_key': 'a2e43a70dd1f0b934108927b7a78d87a', 'query': '3 Idiots'}\n",
    "\n",
    "response = requests.get(url, params=params)\n",
    "data=response.json()\n",
    "\n",
    "print(data['results'][0]['vote_count'],data['results'][0]['vote_average'])"
   ]
  },
  {
   "cell_type": "markdown",
   "id": "bf15bcf5",
   "metadata": {},
   "source": [
    "### 1.4 Fetch the names of top 5 similar movies to 'Inception' from the TMDb API."
   ]
  },
  {
   "cell_type": "code",
   "execution_count": 5,
   "id": "ff84dec8",
   "metadata": {},
   "outputs": [
    {
     "name": "stdout",
     "output_type": "stream",
     "text": [
      "Brothers-In-Law\n",
      "Viva El Vedado\n",
      "The Vallanzasca Band\n",
      "Paprika\n",
      "Running on Empty\n"
     ]
    }
   ],
   "source": [
    "import requests\n",
    "\n",
    "url2 = 'https://api.themoviedb.org/3/movie/27205/similar'\n",
    "params2 = {'api_key': 'a2e43a70dd1f0b934108927b7a78d87a'}\n",
    "\n",
    "response = requests.get(url2, params=params2)\n",
    "data=response.json()\n",
    "\n",
    "similarmovie=(movie['title'] for movie in data['results'][:5])\n",
    "for title in similarmovie:\n",
    "    print(title)"
   ]
  },
  {
   "cell_type": "markdown",
   "id": "03a4ad33",
   "metadata": {},
   "source": [
    "### 1.5 Fetch the top rated english movies in the US region using the TMDb API. From the result, print the first 10 movies which have original language as english. Also print their genres."
   ]
  },
  {
   "cell_type": "code",
   "execution_count": 6,
   "id": "2732aa82",
   "metadata": {},
   "outputs": [
    {
     "name": "stdout",
     "output_type": "stream",
     "text": [
      "The Godfather - Drama, Crime, \n",
      "The Shawshank Redemption - Drama, Crime, \n",
      "The Godfather Part II - Drama, Crime, \n",
      "Schindler's List - Drama, History, War, \n",
      "12 Angry Men - Drama, \n",
      "Spider-Man: Across the Spider-Verse - Action, Adventure, Animation, Science Fiction, \n",
      "The Dark Knight - Drama, Action, Crime, Thriller, \n",
      "The Green Mile - Fantasy, Drama, Crime, \n",
      "Pulp Fiction - Thriller, Crime, \n",
      "Forrest Gump - Comedy, Drama, Romance, \n"
     ]
    }
   ],
   "source": [
    "import requests\n",
    "\n",
    "api_key = \"a2e43a70dd1f0b934108927b7a78d87a\" \n",
    "api_link = \"https://api.themoviedb.org/3\"\n",
    "header = {'Accept': 'application/json'} \n",
    "params = {'api_key':api_key, 'region':'US'} \n",
    "response = requests.get(api_link + \"/movie/top_rated\", headers = header, params = params) \n",
    "\n",
    "data = response.json() \n",
    "results = data.get('results') \n",
    "title_array = [] \n",
    "genre_id_array = [] \n",
    "for result in results: \n",
    "    if result.get('original_language') == 'en': \n",
    "        title_array.append(result.get('title')) \n",
    "        genre_id_array.append(result.get('genre_ids')) \n",
    "        \n",
    "response2 = requests.get(api_link + \"/genre/movie/list\", headers = header, params = params) \n",
    "data2 = response2.json() \n",
    "genres = data2.get('genres') \n",
    "mapping = {}\n",
    "\n",
    "for genre in genres: \n",
    "    mapping[genre.get('id')] = genre.get('name') \n",
    "    \n",
    "for i in range(10): \n",
    "    print(title_array[i], \"-\", end=\" \") \n",
    "    for id in genre_id_array[i]: \n",
    "        print(mapping.get(id), end = \", \") \n",
    "    print()"
   ]
  },
  {
   "cell_type": "markdown",
   "id": "abedf099",
   "metadata": {},
   "source": [
    "### 2.1 Find the name and birthplace of the present most popular person according to TMDb API."
   ]
  },
  {
   "cell_type": "code",
   "execution_count": 7,
   "id": "1673b65a",
   "metadata": {},
   "outputs": [
    {
     "name": "stdout",
     "output_type": "stream",
     "text": [
      "75341\n",
      "Gary Coleman  -  Santa Cruz del Norte, Cuba\n"
     ]
    }
   ],
   "source": [
    "import requests\n",
    "\n",
    "url2 = 'https://api.themoviedb.org/3/person/popular'\n",
    "params2 = {'api_key': 'a2e43a70dd1f0b934108927b7a78d87a'}\n",
    "\n",
    "response = requests.get(url2, params=params2)\n",
    "\n",
    "data=response.json()\n",
    "person=data['results'][0]\n",
    "print(person['id'])\n",
    "\n",
    "response2=requests.get('https://api.themoviedb.org/3/person/224513',params=params2)\n",
    "data2=response2.json()\n",
    "birth=data2.get('place_of_birth')\n",
    "print(person['name'],\" - \",birth)"
   ]
  },
  {
   "cell_type": "markdown",
   "id": "80e6ed55",
   "metadata": {},
   "source": [
    "### 2.2 Fetch the Instagram and Twitter handle of Indian Actress \"Alia Bhatt\" from the TMDb API."
   ]
  },
  {
   "cell_type": "code",
   "execution_count": 8,
   "id": "1e984f06",
   "metadata": {},
   "outputs": [
    {
     "name": "stdout",
     "output_type": "stream",
     "text": [
      "aliaabhatt  Aliaa08\n"
     ]
    }
   ],
   "source": [
    "import requests\n",
    "\n",
    "api_key = \"a2e43a70dd1f0b934108927b7a78d87a\"\n",
    "api_link = \"https://api.themoviedb.org/3\"\n",
    "params = {'api_key':api_key}\n",
    "header = {'Accept': 'application/json'}\n",
    "response2 = requests.get(api_link + \"/person/\"+str(1108120)+\"/external_ids\", headers = header, params=params)\n",
    "data=response2.json()\n",
    "\n",
    "print(data['instagram_id'],'',data['twitter_id'])"
   ]
  },
  {
   "cell_type": "markdown",
   "id": "e96f9170",
   "metadata": {},
   "source": [
    "### 2.3 Fetch the names of the character played by Tom Cruise in the movies: \n",
    " #### Top Gun \n",
    " #### Mission: Impossible - Fallout \n",
    " #### Minority Report \n",
    " #### Edge of Tomorrow"
   ]
  },
  {
   "cell_type": "code",
   "execution_count": 9,
   "id": "ba53663d",
   "metadata": {},
   "outputs": [
    {
     "name": "stdout",
     "output_type": "stream",
     "text": [
      "Lt. Pete 'Maverick' Mitchell\n",
      "Ethan Hunt\n",
      "Chief John Anderton\n",
      "Maj. William 'Bill' Cage\n"
     ]
    }
   ],
   "source": [
    "import requests\n",
    "\n",
    "api_key = 'a2e43a70dd1f0b934108927b7a78d87a'\n",
    "base_url = 'https://api.themoviedb.org/3'\n",
    "movie_titles = [\n",
    "    \"Top Gun\",\n",
    "    \"Mission: Impossible - Fallout\",\n",
    "    \"Minority Report\",\n",
    "    \"Edge of Tomorrow\"\n",
    "]\n",
    "\n",
    "for title in movie_titles:\n",
    "    search_url = f'{base_url}/search/movie'\n",
    "    search_params = {\n",
    "        'api_key': api_key,\n",
    "        'query': title\n",
    "    }\n",
    "    search_response = requests.get(search_url, params=search_params)\n",
    "    search_data = search_response.json()\n",
    "    \n",
    "    movie_id = search_data['results'][0]['id']\n",
    "    \n",
    "    movie_url = f'{base_url}/movie/{movie_id}/credits'\n",
    "    movie_params = {\n",
    "        'api_key': api_key\n",
    "    }\n",
    "    movie_response = requests.get(movie_url, params=movie_params)\n",
    "    movie_data = movie_response.json()\n",
    "    \n",
    "    cast = movie_data['cast']\n",
    "    for actor in cast:\n",
    "        if actor['name'] == 'Tom Cruise':\n",
    "            character_name = actor['character']\n",
    "            print(character_name)\n",
    "            break"
   ]
  },
  {
   "cell_type": "markdown",
   "id": "c9255347",
   "metadata": {},
   "source": [
    "### 2.4 Did James McAvoy play a role in the movie Deadpool 2. Print Yes or No."
   ]
  },
  {
   "cell_type": "code",
   "execution_count": 17,
   "id": "b680c4b5",
   "metadata": {},
   "outputs": [
    {
     "name": "stdout",
     "output_type": "stream",
     "text": [
      "Yes\n"
     ]
    }
   ],
   "source": [
    "import requests\n",
    "api_key = \"a2e43a70dd1f0b934108927b7a78d87a\"\n",
    "api_link = \"https://api.themoviedb.org/3\"\n",
    "params = {'api_key':api_key,'query':'Deadpool 2'}\n",
    "header = {'Accept': 'application/json'}\n",
    "response2 = requests.get(api_link + \"/person/\"+str(5530)+\"/movie_credits\", headers = header, params=params)\n",
    "data=response2.json()\n",
    "for result in data['cast']:\n",
    "    if result['title']=='Deadpool 2':\n",
    "        a=result['title']\n",
    "        if a=='Deadpool 2':\n",
    "            print('Yes')\n",
    "        else:\n",
    "            print('No')"
   ]
  },
  {
   "cell_type": "markdown",
   "id": "1028a81c",
   "metadata": {},
   "source": [
    "### 2.5 Using the result obtained in previous question, find out if James McAvoy was credited for his role in movie Deadpool 2. Print Yes or No."
   ]
  },
  {
   "cell_type": "code",
   "execution_count": 18,
   "id": "12386c29",
   "metadata": {},
   "outputs": [
    {
     "name": "stdout",
     "output_type": "stream",
     "text": [
      "No\n"
     ]
    }
   ],
   "source": [
    "import requests\n",
    "api_key = \"a2e43a70dd1f0b934108927b7a78d87a\"\n",
    "api_link = \"https://api.themoviedb.org/3\"\n",
    "params = {'api_key':api_key,}\n",
    "header = {'Accept': 'application/json'}\n",
    "response2 = requests.get(api_link + \"/person/\"+str(5530)+\"/movie_credits\", headers = header, params=params)\n",
    "data=response2.json()\n",
    "for result in data['cast']:\n",
    "    if result['title']=='Deadpool 2':\n",
    "        a=result['character']\n",
    "        print('No')"
   ]
  },
  {
   "cell_type": "markdown",
   "id": "b639b8da",
   "metadata": {},
   "source": [
    "### 3.1 Fetch the overview of the TV Show \"FRIENDS\" using TMDb API."
   ]
  },
  {
   "cell_type": "code",
   "execution_count": 14,
   "id": "30de0ea0",
   "metadata": {},
   "outputs": [
    {
     "name": "stdout",
     "output_type": "stream",
     "text": [
      "Six young people from New York City, on their own and struggling to survive in the real world, find the companionship, comfort and support they get from each other to be the perfect antidote to the pressures of life.\n",
      "Friends is a short-lived kids-oriented drama that aired in the spring of 1979. The series, which was produced by Aaron Spelling and aired on ABC, starred Charlie Aiken, Jill Whelan, and Jarrod Johnson as three Southern Californian 11-year-olds. Karen Morrow also appeared. Only five one-hour episodes were produced before the series was cancelled.\n",
      "\n"
     ]
    }
   ],
   "source": [
    "import requests\n",
    "\n",
    "api_key = 'a2e43a70dd1f0b934108927b7a78d87a'\n",
    "api_link = \"https://api.themoviedb.org/3\"\n",
    "params = {'api_key':api_key,'query':'Friends'}\n",
    "header = {'Accept': 'application/json'}\n",
    "response2 = requests.get(api_link + \"/search/tv\", headers = header, params=params)\n",
    "data=response2.json()\n",
    "results=data.get('results')\n",
    "\n",
    "for result in results:\n",
    "    if result.get('name')=='Friends':\n",
    "        print(result.get('overview'))"
   ]
  },
  {
   "cell_type": "markdown",
   "id": "054b599f",
   "metadata": {},
   "source": [
    "### 3.2 Fetch the name and air date of S06E05 of the TV Show 'The Big Bang Theory' from TMDb API."
   ]
  },
  {
   "cell_type": "code",
   "execution_count": 13,
   "id": "35e98d96",
   "metadata": {},
   "outputs": [
    {
     "name": "stdout",
     "output_type": "stream",
     "text": [
      "The Holographic Excitation  -  2012-10-25\n"
     ]
    }
   ],
   "source": [
    "import requests\n",
    "\n",
    "api_key = 'a2e43a70dd1f0b934108927b7a78d87a'\n",
    "base_url = 'https://api.themoviedb.org/3'\n",
    "\n",
    "\n",
    "tv_show_id = 1418\n",
    "season_number = 6\n",
    "episode_number = 5\n",
    "url = f'{base_url}/tv/{tv_show_id}/season/{season_number}/episode/{episode_number}'\n",
    "params = {\n",
    "    'api_key': api_key\n",
    "}\n",
    "response = requests.get(url, params=params)\n",
    "data = response.json()\n",
    "\n",
    "name = data['name']\n",
    "air_date = data['air_date']\n",
    "print(name,\" - \",air_date)"
   ]
  },
  {
   "cell_type": "markdown",
   "id": "fbfadb5c",
   "metadata": {},
   "source": [
    "### 3.3 Fetch the trending TV Shows for the week from the TMDb API and print the taglines of the top 5 shows. If there is no tagline, print 'Empty' instead"
   ]
  },
  {
   "cell_type": "code",
   "execution_count": 15,
   "id": "0946ca31",
   "metadata": {},
   "outputs": [
    {
     "name": "stdout",
     "output_type": "stream",
     "text": [
      "Who do you trust?\n",
      "Destiny is a beast.\n",
      "The truth will surface.\n",
      "A boy fights... for \"the right death.\"\n",
      "Let them think they're in control.\n"
     ]
    }
   ],
   "source": [
    "import requests\n",
    "\n",
    "api_key = \"a2e43a70dd1f0b934108927b7a78d87a\" \n",
    "api_link = \"https://api.themoviedb.org/3\" \n",
    "params = {'api_key':api_key} \n",
    "header = {'Accept': 'application/json'} \n",
    "response = requests.get(api_link + \"/trending/tv/week\", headers = header, params = params) \n",
    "data = response.json() \n",
    "results = data.get(\"results\") \n",
    "ids=[] \n",
    "for result in results[:5]: \n",
    "    ids.append(result.get(\"id\")) \n",
    "    \n",
    "for id in ids: \n",
    "    response2 = requests.get(api_link + \"/tv/\" + str(id) , headers = header, params = params) \n",
    "    data2 = response2.json() \n",
    "    if (data2.get(\"tagline\")) != \"\": \n",
    "        print(data2.get(\"tagline\")) \n",
    "    else: \n",
    "        print('Empty')"
   ]
  },
  {
   "cell_type": "markdown",
   "id": "6d510838",
   "metadata": {},
   "source": [
    "### 3.4 Print the names of all the TV shows to be aired today whose original language is english."
   ]
  },
  {
   "cell_type": "code",
   "execution_count": 16,
   "id": "15b5a227",
   "metadata": {},
   "outputs": [
    {
     "name": "stdout",
     "output_type": "stream",
     "text": [
      "Do Dil Mil Rahe Hai\n",
      "Love Island\n",
      "Naked News\n",
      "We Baby Bears\n",
      "The Ghost and Molly McGee\n",
      "Hamster & Gretel\n",
      "Kiff\n",
      "Dino Ranch\n",
      "On Patrol: Live\n",
      "The Kitchen\n",
      "On Patrol: First Shift\n",
      "Hailey's On It!\n",
      "Symon's Dinners Cooking Out\n",
      "The SmackDown LowDown\n",
      "V.C. Andrews' Dawn\n",
      "All Elite Wrestling: Collision\n",
      "Concordia\n",
      "Extraordinary Birder with Christian Cooper\n",
      "PJ Masks: Power Heroes\n",
      "Japan's Top Inventions\n",
      "Act Your Age\n",
      "Chibi Tiny Tales\n",
      "Solid Archery Mechanics\n",
      "Combate Global\n",
      "Build It Forward\n",
      "Flip This House\n",
      "Rixe Intrepides\n",
      "The Devil in Silver\n",
      "Saturday Kitchen\n",
      "Ted's Notebook\n",
      "Lost Beasts\n",
      "“プリンセス プリンセス”ライヴ・フィルム『The Last Live』\n"
     ]
    }
   ],
   "source": [
    "import requests as rq\n",
    "\n",
    "page_num = 1\n",
    "api_key = 'a2e43a70dd1f0b934108927b7a78d87a'\n",
    "api_link = 'https://api.themoviedb.org/3'\n",
    "header = {'Accept':'application/json'}\n",
    "params = {'language':'en','api_key':api_key}\n",
    "r = rq.get(api_link+'/tv/airing_today',headers = header,params = params)\n",
    "data = r.json()\n",
    "\n",
    "res = data['results']\n",
    "page_num = data.get('total_pages')\n",
    "\n",
    "for i in range(1,page_num + 1):\n",
    "    params = {'language':\"en\",'api_key':api_key,'page':i}\n",
    "    r = rq.get(api_link+'/tv/airing_today',headers = header,params = params)\n",
    "    data = r.json()\n",
    "    results = data.get('results')\n",
    "    for r in results:\n",
    "        if r['original_language'] == 'en':\n",
    "            print(r['name'])"
   ]
  },
  {
   "cell_type": "markdown",
   "id": "884c9b4b",
   "metadata": {},
   "source": [
    "### 3.5 Count the number of males and females in the cast of \"Money Heist\" using the TMDb API."
   ]
  },
  {
   "cell_type": "code",
   "execution_count": 19,
   "id": "4e2211e0",
   "metadata": {},
   "outputs": [
    {
     "name": "stdout",
     "output_type": "stream",
     "text": [
      "10 5\n"
     ]
    }
   ],
   "source": [
    "import requests\n",
    "\n",
    "api_key = \"a2e43a70dd1f0b934108927b7a78d87a\"\n",
    "\n",
    "tv_show_id = 71446\n",
    "url = f\"https://api.themoviedb.org/3/tv/{tv_show_id}/credits?api_key={api_key}\"\n",
    "response = requests.get(url)\n",
    "\n",
    "if response.status_code == 200:\n",
    "    data = response.json()\n",
    "    male_count = 0\n",
    "    female_count = 0\n",
    "    \n",
    "    for cast_member in data[\"cast\"]:\n",
    "        if cast_member[\"gender\"] == 1:\n",
    "            female_count += 1\n",
    "        elif cast_member[\"gender\"] == 2:\n",
    "            male_count += 1\n",
    "    \n",
    "    print(f\"{male_count} {female_count}\")\n",
    "    \n",
    "else:\n",
    "    print(\"Failed to retrieve TV show credits.\")"
   ]
  }
 ],
 "metadata": {
  "kernelspec": {
   "display_name": "Python 3 (ipykernel)",
   "language": "python",
   "name": "python3"
  },
  "language_info": {
   "codemirror_mode": {
    "name": "ipython",
    "version": 3
   },
   "file_extension": ".py",
   "mimetype": "text/x-python",
   "name": "python",
   "nbconvert_exporter": "python",
   "pygments_lexer": "ipython3",
   "version": "3.9.13"
  }
 },
 "nbformat": 4,
 "nbformat_minor": 5
}
